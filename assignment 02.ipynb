{
 "cells": [
  {
   "cell_type": "code",
   "execution_count": 5,
   "id": "9964e6a0",
   "metadata": {},
   "outputs": [
    {
     "ename": "IndentationError",
     "evalue": "unexpected indent (1948227768.py, line 10)",
     "output_type": "error",
     "traceback": [
      "\u001b[1;36m  Cell \u001b[1;32mIn[5], line 10\u001b[1;36m\u001b[0m\n\u001b[1;33m    \"\"\"this is my first assignment in pwskills.\u001b[0m\n\u001b[1;37m    ^\u001b[0m\n\u001b[1;31mIndentationError\u001b[0m\u001b[1;31m:\u001b[0m unexpected indent\n"
     ]
    }
   ],
   "source": [
    "#Q1.How do you comment code in Python?What are the different type of comments?\n",
    "\n",
    "two type of comment code in python\n",
    "First: Single line comment use # simble\n",
    "    \n",
    "like this\n",
    "  #this is my first assignment\n",
    "\n",
    "    Second: multi-line comment you can use triple quoted string(either single or double quoted).\n",
    "    like:\n",
    "        \"\"\"this is my first assignment in pwskills.\n",
    "        this is my first assignment in pwskills.\n",
    "        this is my first assignment in pwskills.\n",
    "        this is my first assignment in pwskills.\"\"\"\n",
    "        \n",
    "        ''' Pwskills is the best platform for the data science,web developement,etc.\n",
    "           I know about pw from  the starting.'''"
   ]
  },
  {
   "cell_type": "code",
   "execution_count": 9,
   "id": "100ef9b2",
   "metadata": {},
   "outputs": [],
   "source": [
    "#Q2.Write are  variables in Python?How do you declare and assign values to variables?\n",
    "\n",
    "'''Variable Declaration and Assignment:\n",
    "                                     You can create a variable by simply choosing a name \n",
    "                                     for it and using the assignment operator '=' to give \n",
    "                                     it a value.Variable names in python can consist of letter,\n",
    "                                     number,and,underscores,but they must start with a letter or an underscores.'''\n",
    "                    #Variable Declaration and assignment\n",
    "                    \n",
    "my_variable = 90    #Assign the integer 90 to the variable \"my_variable\"\n",
    "                  \n",
    "    "
   ]
  },
  {
   "cell_type": "code",
   "execution_count": 15,
   "id": "d23ee529",
   "metadata": {},
   "outputs": [],
   "source": [
    "#Q3.How do you convert one data type to another in Python?\n",
    "'''you can convert one data type to another using type casting or type conversion.\n",
    "Python provides built-in functions and methods to help with these conversions.''' \n",
    "var = 89"
   ]
  },
  {
   "cell_type": "code",
   "execution_count": 16,
   "id": "3a4b78c1",
   "metadata": {},
   "outputs": [
    {
     "data": {
      "text/plain": [
       "int"
      ]
     },
     "execution_count": 16,
     "metadata": {},
     "output_type": "execute_result"
    }
   ],
   "source": [
    "type(var)"
   ]
  },
  {
   "cell_type": "code",
   "execution_count": 13,
   "id": "de800c43",
   "metadata": {},
   "outputs": [
    {
     "data": {
      "text/plain": [
       "str"
      ]
     },
     "execution_count": 13,
     "metadata": {},
     "output_type": "execute_result"
    }
   ],
   "source": [
    "type('89')"
   ]
  },
  {
   "cell_type": "code",
   "execution_count": null,
   "id": "12248f63",
   "metadata": {},
   "outputs": [],
   "source": [
    "#Q4.How do you write and execute a Python script from the command line?\n",
    "\n",
    "\"\"\"To write and execute a Python script from the command line,follow these steps:\n",
    "\n",
    "    1.Write the Python Script:\n",
    "    \n",
    "        Open a text editor or an Integrated Development Environment to write your Python\n",
    "        script.Save the script with a '.py'extension.\n",
    "        \n",
    "        Example: script that prints 'Hello,World' to console:\n",
    "    2.Open a Command Line interface:\n",
    "        \n",
    "        Open your opereting system command prompt,terminal,or shell.Ensure you are in the\n",
    "        directory where your Python script is located or navigate to the directory using\n",
    "        the 'cd'command.\n",
    "    3.Run the Python Script:\n",
    "        \n",
    "        To execute the Python script,you can use the 'python' cammand followed by the scripts\n",
    "        filename.\n",
    "        \n",
    "        Example:  python my_script.py\n",
    "    4.Observe the Output:\n",
    "      \n",
    "        After running the script you will see the output in the commond line.\n",
    "        in the case of the 'Hello,World!',you will see:\n",
    "            \n",
    "            Hello,World!\"\"\""
   ]
  },
  {
   "cell_type": "code",
   "execution_count": 3,
   "id": "8ad0ccce",
   "metadata": {},
   "outputs": [],
   "source": [
    "#Q5.Given a list my_list = [1,2,3,4,5],write the code to slice the list and obtain the sub-list[2,3].\n",
    "my_list = [1,2,3,4,5]"
   ]
  },
  {
   "cell_type": "code",
   "execution_count": 4,
   "id": "785894a3",
   "metadata": {},
   "outputs": [
    {
     "data": {
      "text/plain": [
       "[1, 2, 3, 4, 5]"
      ]
     },
     "execution_count": 4,
     "metadata": {},
     "output_type": "execute_result"
    }
   ],
   "source": [
    "my_list"
   ]
  },
  {
   "cell_type": "code",
   "execution_count": 5,
   "id": "40a159c1",
   "metadata": {},
   "outputs": [
    {
     "data": {
      "text/plain": [
       "[2, 3]"
      ]
     },
     "execution_count": 5,
     "metadata": {},
     "output_type": "execute_result"
    }
   ],
   "source": [
    "#sub-list[2,3]\n",
    "my_list[1:3]"
   ]
  },
  {
   "cell_type": "code",
   "execution_count": 6,
   "id": "2576d9c4",
   "metadata": {},
   "outputs": [
    {
     "data": {
      "text/plain": [
       "'Mathematics represent:  4 + 8i\\nPython represent:   4 + 8j'"
      ]
     },
     "execution_count": 6,
     "metadata": {},
     "output_type": "execute_result"
    }
   ],
   "source": [
    "#Q6.What is a complex number in mathematics,and how is it represent in python?\n",
    "\n",
    "'''Mathematics represent:  4 + 8i\n",
    "Python represent:   4 + 8j'''"
   ]
  },
  {
   "cell_type": "code",
   "execution_count": 7,
   "id": "33a23ca2",
   "metadata": {},
   "outputs": [],
   "source": [
    "#Q7.What is the correct way to declare a variable named age and assign the value 25 to it?\n",
    "age = 25"
   ]
  },
  {
   "cell_type": "code",
   "execution_count": 8,
   "id": "adbc48c7",
   "metadata": {},
   "outputs": [
    {
     "data": {
      "text/plain": [
       "25"
      ]
     },
     "execution_count": 8,
     "metadata": {},
     "output_type": "execute_result"
    }
   ],
   "source": [
    "age"
   ]
  },
  {
   "cell_type": "code",
   "execution_count": 11,
   "id": "23cca09e",
   "metadata": {},
   "outputs": [],
   "source": [
    "#8.Declare a  varible named price and assign the value 9.99 to it.What data type does this varible belonh to?\n",
    "\n",
    "price = 9.99"
   ]
  },
  {
   "cell_type": "code",
   "execution_count": 12,
   "id": "ca3bd35c",
   "metadata": {},
   "outputs": [
    {
     "data": {
      "text/plain": [
       "float"
      ]
     },
     "execution_count": 12,
     "metadata": {},
     "output_type": "execute_result"
    }
   ],
   "source": [
    "type(price)"
   ]
  },
  {
   "cell_type": "code",
   "execution_count": 13,
   "id": "51d1a188",
   "metadata": {},
   "outputs": [
    {
     "name": "stdout",
     "output_type": "stream",
     "text": [
      "Mohd Arif\n"
     ]
    }
   ],
   "source": [
    "#Q9.create a  variable named and assign your full name to it as string.How would you print the value if this variable?\n",
    "\n",
    "name = \"Mohd Arif\"\n",
    "print(name)"
   ]
  },
  {
   "cell_type": "code",
   "execution_count": 18,
   "id": "1003f8c1",
   "metadata": {},
   "outputs": [
    {
     "data": {
      "text/plain": [
       "'World'"
      ]
     },
     "execution_count": 18,
     "metadata": {},
     "output_type": "execute_result"
    }
   ],
   "source": [
    "#Q10.Given the string \"Hello,World!\",extract the substring \"World\".\n",
    "String = \"Hello,World!\"\n",
    "#sub string \n",
    "String[6:11]"
   ]
  },
  {
   "cell_type": "code",
   "execution_count": null,
   "id": "c5e1b997",
   "metadata": {},
   "outputs": [],
   "source": [
    "#Q11.Creat a variable named\"is_student\" and assign it a boolean value indicating whether you are currently a student or not.\n",
    "is_student = True\n",
    "print(is_student)"
   ]
  },
  {
   "cell_type": "code",
   "execution_count": null,
   "id": "1f7ef229",
   "metadata": {},
   "outputs": [],
   "source": []
  },
  {
   "cell_type": "code",
   "execution_count": null,
   "id": "8a8169c4",
   "metadata": {},
   "outputs": [],
   "source": []
  }
 ],
 "metadata": {
  "kernelspec": {
   "display_name": "Python 3 (ipykernel)",
   "language": "python",
   "name": "python3"
  },
  "language_info": {
   "codemirror_mode": {
    "name": "ipython",
    "version": 3
   },
   "file_extension": ".py",
   "mimetype": "text/x-python",
   "name": "python",
   "nbconvert_exporter": "python",
   "pygments_lexer": "ipython3",
   "version": "3.11.4"
  }
 },
 "nbformat": 4,
 "nbformat_minor": 5
}
